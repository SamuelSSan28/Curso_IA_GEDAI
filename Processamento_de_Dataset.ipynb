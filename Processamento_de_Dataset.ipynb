{
  "nbformat": 4,
  "nbformat_minor": 0,
  "metadata": {
    "colab": {
      "name": "Processamento_de_Dataset.ipynb",
      "provenance": [],
      "authorship_tag": "ABX9TyP+cfyUB+zc1RC53yse6SXK",
      "include_colab_link": true
    },
    "kernelspec": {
      "name": "python3",
      "display_name": "Python 3"
    }
  },
  "cells": [
    {
      "cell_type": "markdown",
      "metadata": {
        "id": "view-in-github",
        "colab_type": "text"
      },
      "source": [
        "<a href=\"https://colab.research.google.com/github/SamuelSSan28/Curso_IA_GEDAI/blob/master/Processamento_de_Dataset.ipynb\" target=\"_parent\"><img src=\"https://colab.research.google.com/assets/colab-badge.svg\" alt=\"Open In Colab\"/></a>"
      ]
    },
    {
      "cell_type": "code",
      "metadata": {
        "id": "OLcCtYYOsnry",
        "colab_type": "code",
        "colab": {}
      },
      "source": [
        "import pandas as pd"
      ],
      "execution_count": 112,
      "outputs": []
    },
    {
      "cell_type": "code",
      "metadata": {
        "id": "sKGO_P-fsGzs",
        "colab_type": "code",
        "colab": {
          "base_uri": "https://localhost:8080/",
          "height": 204
        },
        "outputId": "65684bd6-2ad8-4af9-96f6-0564999ddc6f"
      },
      "source": [
        "receitas = pd.read_csv('receitas.csv')\n",
        "receitas.head()"
      ],
      "execution_count": 113,
      "outputs": [
        {
          "output_type": "execute_result",
          "data": {
            "text/html": [
              "<div>\n",
              "<style scoped>\n",
              "    .dataframe tbody tr th:only-of-type {\n",
              "        vertical-align: middle;\n",
              "    }\n",
              "\n",
              "    .dataframe tbody tr th {\n",
              "        vertical-align: top;\n",
              "    }\n",
              "\n",
              "    .dataframe thead th {\n",
              "        text-align: right;\n",
              "    }\n",
              "</style>\n",
              "<table border=\"1\" class=\"dataframe\">\n",
              "  <thead>\n",
              "    <tr style=\"text-align: right;\">\n",
              "      <th></th>\n",
              "      <th>tempo_de_preparo</th>\n",
              "      <th>dificuldade</th>\n",
              "      <th>quant_ingredientes</th>\n",
              "      <th>quant_passos_preparo</th>\n",
              "    </tr>\n",
              "  </thead>\n",
              "  <tbody>\n",
              "    <tr>\n",
              "      <th>0</th>\n",
              "      <td>30</td>\n",
              "      <td>Dificuldade baixa</td>\n",
              "      <td>5</td>\n",
              "      <td>16</td>\n",
              "    </tr>\n",
              "    <tr>\n",
              "      <th>1</th>\n",
              "      <td>45</td>\n",
              "      <td>Dificuldade baixa</td>\n",
              "      <td>9</td>\n",
              "      <td>11</td>\n",
              "    </tr>\n",
              "    <tr>\n",
              "      <th>2</th>\n",
              "      <td>45</td>\n",
              "      <td>Dificuldade baixa</td>\n",
              "      <td>11</td>\n",
              "      <td>21</td>\n",
              "    </tr>\n",
              "    <tr>\n",
              "      <th>3</th>\n",
              "      <td>15</td>\n",
              "      <td>Dificuldade baixa</td>\n",
              "      <td>9</td>\n",
              "      <td>11</td>\n",
              "    </tr>\n",
              "    <tr>\n",
              "      <th>4</th>\n",
              "      <td>10</td>\n",
              "      <td>Dificuldade baixa</td>\n",
              "      <td>5</td>\n",
              "      <td>21</td>\n",
              "    </tr>\n",
              "  </tbody>\n",
              "</table>\n",
              "</div>"
            ],
            "text/plain": [
              "   tempo_de_preparo  ... quant_passos_preparo\n",
              "0                30  ...                   16\n",
              "1                45  ...                   11\n",
              "2                45  ...                   21\n",
              "3                15  ...                   11\n",
              "4                10  ...                   21\n",
              "\n",
              "[5 rows x 4 columns]"
            ]
          },
          "metadata": {
            "tags": []
          },
          "execution_count": 113
        }
      ]
    },
    {
      "cell_type": "code",
      "metadata": {
        "id": "Kss2c173zLLS",
        "colab_type": "code",
        "colab": {
          "base_uri": "https://localhost:8080/",
          "height": 85
        },
        "outputId": "c1ca6381-efd4-45cd-afa7-a6614413e79c"
      },
      "source": [
        "receitas['dificuldade'].value_counts()"
      ],
      "execution_count": 114,
      "outputs": [
        {
          "output_type": "execute_result",
          "data": {
            "text/plain": [
              "Dificuldade baixa      1760\n",
              "Dificuldade média      1745\n",
              "Dificuldade elevada      91\n",
              "Name: dificuldade, dtype: int64"
            ]
          },
          "metadata": {
            "tags": []
          },
          "execution_count": 114
        }
      ]
    },
    {
      "cell_type": "code",
      "metadata": {
        "id": "KLEzxL0hsy38",
        "colab_type": "code",
        "colab": {
          "base_uri": "https://localhost:8080/",
          "height": 541
        },
        "outputId": "68ffa30c-c2c8-4d4a-bc4b-72f47eb29ebf"
      },
      "source": [
        "dificeis = receitas.loc[(receitas[\"quant_passos_preparo\"] >= 30) | (receitas[\"quant_ingredientes\"] >=  20) | (receitas[\"dificuldade\"] == \"Dificuldade elevada\")]\n",
        "dificeis['dificuldade']  = [\"Dificuldade elevada\"]* len(dificeis)\n",
        "dificeis"
      ],
      "execution_count": 186,
      "outputs": [
        {
          "output_type": "stream",
          "text": [
            "/usr/local/lib/python3.6/dist-packages/ipykernel_launcher.py:2: SettingWithCopyWarning: \n",
            "A value is trying to be set on a copy of a slice from a DataFrame.\n",
            "Try using .loc[row_indexer,col_indexer] = value instead\n",
            "\n",
            "See the caveats in the documentation: https://pandas.pydata.org/pandas-docs/stable/user_guide/indexing.html#returning-a-view-versus-a-copy\n",
            "  \n"
          ],
          "name": "stderr"
        },
        {
          "output_type": "execute_result",
          "data": {
            "text/html": [
              "<div>\n",
              "<style scoped>\n",
              "    .dataframe tbody tr th:only-of-type {\n",
              "        vertical-align: middle;\n",
              "    }\n",
              "\n",
              "    .dataframe tbody tr th {\n",
              "        vertical-align: top;\n",
              "    }\n",
              "\n",
              "    .dataframe thead th {\n",
              "        text-align: right;\n",
              "    }\n",
              "</style>\n",
              "<table border=\"1\" class=\"dataframe\">\n",
              "  <thead>\n",
              "    <tr style=\"text-align: right;\">\n",
              "      <th></th>\n",
              "      <th>tempo_de_preparo</th>\n",
              "      <th>dificuldade</th>\n",
              "      <th>quant_ingredientes</th>\n",
              "      <th>quant_passos_preparo</th>\n",
              "    </tr>\n",
              "  </thead>\n",
              "  <tbody>\n",
              "    <tr>\n",
              "      <th>93</th>\n",
              "      <td>45</td>\n",
              "      <td>Dificuldade elevada</td>\n",
              "      <td>15</td>\n",
              "      <td>32</td>\n",
              "    </tr>\n",
              "    <tr>\n",
              "      <th>135</th>\n",
              "      <td>1440</td>\n",
              "      <td>Dificuldade elevada</td>\n",
              "      <td>5</td>\n",
              "      <td>33</td>\n",
              "    </tr>\n",
              "    <tr>\n",
              "      <th>198</th>\n",
              "      <td>45</td>\n",
              "      <td>Dificuldade elevada</td>\n",
              "      <td>8</td>\n",
              "      <td>31</td>\n",
              "    </tr>\n",
              "    <tr>\n",
              "      <th>231</th>\n",
              "      <td>90</td>\n",
              "      <td>Dificuldade elevada</td>\n",
              "      <td>13</td>\n",
              "      <td>30</td>\n",
              "    </tr>\n",
              "    <tr>\n",
              "      <th>246</th>\n",
              "      <td>150</td>\n",
              "      <td>Dificuldade elevada</td>\n",
              "      <td>14</td>\n",
              "      <td>36</td>\n",
              "    </tr>\n",
              "    <tr>\n",
              "      <th>...</th>\n",
              "      <td>...</td>\n",
              "      <td>...</td>\n",
              "      <td>...</td>\n",
              "      <td>...</td>\n",
              "    </tr>\n",
              "    <tr>\n",
              "      <th>3552</th>\n",
              "      <td>30</td>\n",
              "      <td>Dificuldade elevada</td>\n",
              "      <td>20</td>\n",
              "      <td>15</td>\n",
              "    </tr>\n",
              "    <tr>\n",
              "      <th>3554</th>\n",
              "      <td>150</td>\n",
              "      <td>Dificuldade elevada</td>\n",
              "      <td>21</td>\n",
              "      <td>17</td>\n",
              "    </tr>\n",
              "    <tr>\n",
              "      <th>3561</th>\n",
              "      <td>90</td>\n",
              "      <td>Dificuldade elevada</td>\n",
              "      <td>20</td>\n",
              "      <td>18</td>\n",
              "    </tr>\n",
              "    <tr>\n",
              "      <th>3578</th>\n",
              "      <td>45</td>\n",
              "      <td>Dificuldade elevada</td>\n",
              "      <td>21</td>\n",
              "      <td>16</td>\n",
              "    </tr>\n",
              "    <tr>\n",
              "      <th>3581</th>\n",
              "      <td>90</td>\n",
              "      <td>Dificuldade elevada</td>\n",
              "      <td>22</td>\n",
              "      <td>20</td>\n",
              "    </tr>\n",
              "  </tbody>\n",
              "</table>\n",
              "<p>214 rows × 4 columns</p>\n",
              "</div>"
            ],
            "text/plain": [
              "      tempo_de_preparo  ... quant_passos_preparo\n",
              "93                  45  ...                   32\n",
              "135               1440  ...                   33\n",
              "198                 45  ...                   31\n",
              "231                 90  ...                   30\n",
              "246                150  ...                   36\n",
              "...                ...  ...                  ...\n",
              "3552                30  ...                   15\n",
              "3554               150  ...                   17\n",
              "3561                90  ...                   18\n",
              "3578                45  ...                   16\n",
              "3581                90  ...                   20\n",
              "\n",
              "[214 rows x 4 columns]"
            ]
          },
          "metadata": {
            "tags": []
          },
          "execution_count": 186
        }
      ]
    },
    {
      "cell_type": "code",
      "metadata": {
        "colab_type": "code",
        "id": "NfbCyizDmzDf",
        "colab": {
          "base_uri": "https://localhost:8080/",
          "height": 419
        },
        "outputId": "988bb66b-b9e1-4c74-8f11-e400fff29689"
      },
      "source": [
        "medias = receitas.loc[(receitas[\"quant_passos_preparo\"] < 25 ) & (receitas[\"quant_passos_preparo\"] >= 15 )]\n",
        "medias = medias.loc[(medias[\"quant_ingredientes\"] >  10) &(medias[\"quant_ingredientes\"] < 20) & (medias[\"dificuldade\"] == \"Dificuldade média\")]\n",
        "medias"
      ],
      "execution_count": 176,
      "outputs": [
        {
          "output_type": "execute_result",
          "data": {
            "text/html": [
              "<div>\n",
              "<style scoped>\n",
              "    .dataframe tbody tr th:only-of-type {\n",
              "        vertical-align: middle;\n",
              "    }\n",
              "\n",
              "    .dataframe tbody tr th {\n",
              "        vertical-align: top;\n",
              "    }\n",
              "\n",
              "    .dataframe thead th {\n",
              "        text-align: right;\n",
              "    }\n",
              "</style>\n",
              "<table border=\"1\" class=\"dataframe\">\n",
              "  <thead>\n",
              "    <tr style=\"text-align: right;\">\n",
              "      <th></th>\n",
              "      <th>tempo_de_preparo</th>\n",
              "      <th>dificuldade</th>\n",
              "      <th>quant_ingredientes</th>\n",
              "      <th>quant_passos_preparo</th>\n",
              "    </tr>\n",
              "  </thead>\n",
              "  <tbody>\n",
              "    <tr>\n",
              "      <th>1854</th>\n",
              "      <td>45</td>\n",
              "      <td>Dificuldade média</td>\n",
              "      <td>14</td>\n",
              "      <td>17</td>\n",
              "    </tr>\n",
              "    <tr>\n",
              "      <th>1855</th>\n",
              "      <td>480</td>\n",
              "      <td>Dificuldade média</td>\n",
              "      <td>12</td>\n",
              "      <td>16</td>\n",
              "    </tr>\n",
              "    <tr>\n",
              "      <th>1861</th>\n",
              "      <td>45</td>\n",
              "      <td>Dificuldade média</td>\n",
              "      <td>13</td>\n",
              "      <td>24</td>\n",
              "    </tr>\n",
              "    <tr>\n",
              "      <th>1863</th>\n",
              "      <td>45</td>\n",
              "      <td>Dificuldade média</td>\n",
              "      <td>11</td>\n",
              "      <td>19</td>\n",
              "    </tr>\n",
              "    <tr>\n",
              "      <th>1864</th>\n",
              "      <td>90</td>\n",
              "      <td>Dificuldade média</td>\n",
              "      <td>13</td>\n",
              "      <td>16</td>\n",
              "    </tr>\n",
              "    <tr>\n",
              "      <th>...</th>\n",
              "      <td>...</td>\n",
              "      <td>...</td>\n",
              "      <td>...</td>\n",
              "      <td>...</td>\n",
              "    </tr>\n",
              "    <tr>\n",
              "      <th>3586</th>\n",
              "      <td>150</td>\n",
              "      <td>Dificuldade média</td>\n",
              "      <td>19</td>\n",
              "      <td>18</td>\n",
              "    </tr>\n",
              "    <tr>\n",
              "      <th>3589</th>\n",
              "      <td>90</td>\n",
              "      <td>Dificuldade média</td>\n",
              "      <td>12</td>\n",
              "      <td>24</td>\n",
              "    </tr>\n",
              "    <tr>\n",
              "      <th>3590</th>\n",
              "      <td>1440</td>\n",
              "      <td>Dificuldade média</td>\n",
              "      <td>15</td>\n",
              "      <td>16</td>\n",
              "    </tr>\n",
              "    <tr>\n",
              "      <th>3591</th>\n",
              "      <td>45</td>\n",
              "      <td>Dificuldade média</td>\n",
              "      <td>13</td>\n",
              "      <td>16</td>\n",
              "    </tr>\n",
              "    <tr>\n",
              "      <th>3593</th>\n",
              "      <td>90</td>\n",
              "      <td>Dificuldade média</td>\n",
              "      <td>19</td>\n",
              "      <td>15</td>\n",
              "    </tr>\n",
              "  </tbody>\n",
              "</table>\n",
              "<p>534 rows × 4 columns</p>\n",
              "</div>"
            ],
            "text/plain": [
              "      tempo_de_preparo  ... quant_passos_preparo\n",
              "1854                45  ...                   17\n",
              "1855               480  ...                   16\n",
              "1861                45  ...                   24\n",
              "1863                45  ...                   19\n",
              "1864                90  ...                   16\n",
              "...                ...  ...                  ...\n",
              "3586               150  ...                   18\n",
              "3589                90  ...                   24\n",
              "3590              1440  ...                   16\n",
              "3591                45  ...                   16\n",
              "3593                90  ...                   15\n",
              "\n",
              "[534 rows x 4 columns]"
            ]
          },
          "metadata": {
            "tags": []
          },
          "execution_count": 176
        }
      ]
    },
    {
      "cell_type": "code",
      "metadata": {
        "colab_type": "code",
        "id": "eoY4AGICmzR8",
        "colab": {
          "base_uri": "https://localhost:8080/",
          "height": 419
        },
        "outputId": "f0ab010d-63f3-4021-af75-833148a84fb7"
      },
      "source": [
        "faceis = receitas.loc[(receitas[\"quant_passos_preparo\"] < 10 ) & (receitas[\"quant_ingredientes\"] <  10) & (receitas[\"dificuldade\"] == \"Dificuldade baixa\")]\n",
        "faceis"
      ],
      "execution_count": 174,
      "outputs": [
        {
          "output_type": "execute_result",
          "data": {
            "text/html": [
              "<div>\n",
              "<style scoped>\n",
              "    .dataframe tbody tr th:only-of-type {\n",
              "        vertical-align: middle;\n",
              "    }\n",
              "\n",
              "    .dataframe tbody tr th {\n",
              "        vertical-align: top;\n",
              "    }\n",
              "\n",
              "    .dataframe thead th {\n",
              "        text-align: right;\n",
              "    }\n",
              "</style>\n",
              "<table border=\"1\" class=\"dataframe\">\n",
              "  <thead>\n",
              "    <tr style=\"text-align: right;\">\n",
              "      <th></th>\n",
              "      <th>tempo_de_preparo</th>\n",
              "      <th>dificuldade</th>\n",
              "      <th>quant_ingredientes</th>\n",
              "      <th>quant_passos_preparo</th>\n",
              "    </tr>\n",
              "  </thead>\n",
              "  <tbody>\n",
              "    <tr>\n",
              "      <th>15</th>\n",
              "      <td>15</td>\n",
              "      <td>Dificuldade baixa</td>\n",
              "      <td>7</td>\n",
              "      <td>9</td>\n",
              "    </tr>\n",
              "    <tr>\n",
              "      <th>16</th>\n",
              "      <td>15</td>\n",
              "      <td>Dificuldade baixa</td>\n",
              "      <td>6</td>\n",
              "      <td>9</td>\n",
              "    </tr>\n",
              "    <tr>\n",
              "      <th>56</th>\n",
              "      <td>30</td>\n",
              "      <td>Dificuldade baixa</td>\n",
              "      <td>7</td>\n",
              "      <td>7</td>\n",
              "    </tr>\n",
              "    <tr>\n",
              "      <th>106</th>\n",
              "      <td>30</td>\n",
              "      <td>Dificuldade baixa</td>\n",
              "      <td>9</td>\n",
              "      <td>9</td>\n",
              "    </tr>\n",
              "    <tr>\n",
              "      <th>144</th>\n",
              "      <td>90</td>\n",
              "      <td>Dificuldade baixa</td>\n",
              "      <td>4</td>\n",
              "      <td>8</td>\n",
              "    </tr>\n",
              "    <tr>\n",
              "      <th>...</th>\n",
              "      <td>...</td>\n",
              "      <td>...</td>\n",
              "      <td>...</td>\n",
              "      <td>...</td>\n",
              "    </tr>\n",
              "    <tr>\n",
              "      <th>1746</th>\n",
              "      <td>10</td>\n",
              "      <td>Dificuldade baixa</td>\n",
              "      <td>4</td>\n",
              "      <td>7</td>\n",
              "    </tr>\n",
              "    <tr>\n",
              "      <th>1749</th>\n",
              "      <td>30</td>\n",
              "      <td>Dificuldade baixa</td>\n",
              "      <td>6</td>\n",
              "      <td>8</td>\n",
              "    </tr>\n",
              "    <tr>\n",
              "      <th>1750</th>\n",
              "      <td>10</td>\n",
              "      <td>Dificuldade baixa</td>\n",
              "      <td>8</td>\n",
              "      <td>6</td>\n",
              "    </tr>\n",
              "    <tr>\n",
              "      <th>1751</th>\n",
              "      <td>30</td>\n",
              "      <td>Dificuldade baixa</td>\n",
              "      <td>9</td>\n",
              "      <td>9</td>\n",
              "    </tr>\n",
              "    <tr>\n",
              "      <th>1756</th>\n",
              "      <td>15</td>\n",
              "      <td>Dificuldade baixa</td>\n",
              "      <td>4</td>\n",
              "      <td>8</td>\n",
              "    </tr>\n",
              "  </tbody>\n",
              "</table>\n",
              "<p>287 rows × 4 columns</p>\n",
              "</div>"
            ],
            "text/plain": [
              "      tempo_de_preparo  ... quant_passos_preparo\n",
              "15                  15  ...                    9\n",
              "16                  15  ...                    9\n",
              "56                  30  ...                    7\n",
              "106                 30  ...                    9\n",
              "144                 90  ...                    8\n",
              "...                ...  ...                  ...\n",
              "1746                10  ...                    7\n",
              "1749                30  ...                    8\n",
              "1750                10  ...                    6\n",
              "1751                30  ...                    9\n",
              "1756                15  ...                    8\n",
              "\n",
              "[287 rows x 4 columns]"
            ]
          },
          "metadata": {
            "tags": []
          },
          "execution_count": 174
        }
      ]
    },
    {
      "cell_type": "code",
      "metadata": {
        "id": "cR5mSxVtawLK",
        "colab_type": "code",
        "colab": {}
      },
      "source": [
        "receitas_concat = pd.concat([faceis, medias,dificeis])"
      ],
      "execution_count": 187,
      "outputs": []
    },
    {
      "cell_type": "code",
      "metadata": {
        "id": "-W9kadbhbzmM",
        "colab_type": "code",
        "colab": {
          "base_uri": "https://localhost:8080/",
          "height": 34
        },
        "outputId": "e0f0db3b-d1b2-453d-89be-6f401ea01004"
      },
      "source": [
        "receitas_concat.shape"
      ],
      "execution_count": 188,
      "outputs": [
        {
          "output_type": "execute_result",
          "data": {
            "text/plain": [
              "(1035, 4)"
            ]
          },
          "metadata": {
            "tags": []
          },
          "execution_count": 188
        }
      ]
    },
    {
      "cell_type": "markdown",
      "metadata": {
        "id": "AlF_66iNiYai",
        "colab_type": "text"
      },
      "source": [
        "## Machine Learning"
      ]
    },
    {
      "cell_type": "code",
      "metadata": {
        "id": "WYQJ_VG5MaQ2",
        "colab_type": "code",
        "colab": {
          "base_uri": "https://localhost:8080/",
          "height": 419
        },
        "outputId": "2e181232-8bee-4053-90d6-ef2791fe2a96"
      },
      "source": [
        "from sklearn import preprocessing\n",
        "\n",
        "min_max_scaler = preprocessing.MinMaxScaler()\n",
        "np_scaled = min_max_scaler.fit_transform(receitas_concat[['quant_ingredientes','quant_passos_preparo']])\n",
        "df_normalized = pd.DataFrame(np_scaled)\n",
        "#df_normalized[\"dificuldade\"] = receitas['dificuldade']\n",
        "#df_normalized.to_csv (r'receitasN.csv', index = False, header=True)\n",
        "df_normalized\n",
        "\n"
      ],
      "execution_count": 189,
      "outputs": [
        {
          "output_type": "execute_result",
          "data": {
            "text/html": [
              "<div>\n",
              "<style scoped>\n",
              "    .dataframe tbody tr th:only-of-type {\n",
              "        vertical-align: middle;\n",
              "    }\n",
              "\n",
              "    .dataframe tbody tr th {\n",
              "        vertical-align: top;\n",
              "    }\n",
              "\n",
              "    .dataframe thead th {\n",
              "        text-align: right;\n",
              "    }\n",
              "</style>\n",
              "<table border=\"1\" class=\"dataframe\">\n",
              "  <thead>\n",
              "    <tr style=\"text-align: right;\">\n",
              "      <th></th>\n",
              "      <th>0</th>\n",
              "      <th>1</th>\n",
              "    </tr>\n",
              "  </thead>\n",
              "  <tbody>\n",
              "    <tr>\n",
              "      <th>0</th>\n",
              "      <td>0.121212</td>\n",
              "      <td>0.111111</td>\n",
              "    </tr>\n",
              "    <tr>\n",
              "      <th>1</th>\n",
              "      <td>0.090909</td>\n",
              "      <td>0.111111</td>\n",
              "    </tr>\n",
              "    <tr>\n",
              "      <th>2</th>\n",
              "      <td>0.121212</td>\n",
              "      <td>0.066667</td>\n",
              "    </tr>\n",
              "    <tr>\n",
              "      <th>3</th>\n",
              "      <td>0.181818</td>\n",
              "      <td>0.111111</td>\n",
              "    </tr>\n",
              "    <tr>\n",
              "      <th>4</th>\n",
              "      <td>0.030303</td>\n",
              "      <td>0.088889</td>\n",
              "    </tr>\n",
              "    <tr>\n",
              "      <th>...</th>\n",
              "      <td>...</td>\n",
              "      <td>...</td>\n",
              "    </tr>\n",
              "    <tr>\n",
              "      <th>1030</th>\n",
              "      <td>0.515152</td>\n",
              "      <td>0.244444</td>\n",
              "    </tr>\n",
              "    <tr>\n",
              "      <th>1031</th>\n",
              "      <td>0.545455</td>\n",
              "      <td>0.288889</td>\n",
              "    </tr>\n",
              "    <tr>\n",
              "      <th>1032</th>\n",
              "      <td>0.515152</td>\n",
              "      <td>0.311111</td>\n",
              "    </tr>\n",
              "    <tr>\n",
              "      <th>1033</th>\n",
              "      <td>0.545455</td>\n",
              "      <td>0.266667</td>\n",
              "    </tr>\n",
              "    <tr>\n",
              "      <th>1034</th>\n",
              "      <td>0.575758</td>\n",
              "      <td>0.355556</td>\n",
              "    </tr>\n",
              "  </tbody>\n",
              "</table>\n",
              "<p>1035 rows × 2 columns</p>\n",
              "</div>"
            ],
            "text/plain": [
              "             0         1\n",
              "0     0.121212  0.111111\n",
              "1     0.090909  0.111111\n",
              "2     0.121212  0.066667\n",
              "3     0.181818  0.111111\n",
              "4     0.030303  0.088889\n",
              "...        ...       ...\n",
              "1030  0.515152  0.244444\n",
              "1031  0.545455  0.288889\n",
              "1032  0.515152  0.311111\n",
              "1033  0.545455  0.266667\n",
              "1034  0.575758  0.355556\n",
              "\n",
              "[1035 rows x 2 columns]"
            ]
          },
          "metadata": {
            "tags": []
          },
          "execution_count": 189
        }
      ]
    },
    {
      "cell_type": "code",
      "metadata": {
        "id": "y7hN9w8qxTFq",
        "colab_type": "code",
        "colab": {
          "base_uri": "https://localhost:8080/",
          "height": 85
        },
        "outputId": "bf4aae43-f59f-403a-9db1-3384fd79aa87"
      },
      "source": [
        "receitas_concat['dificuldade'].value_counts()"
      ],
      "execution_count": 190,
      "outputs": [
        {
          "output_type": "execute_result",
          "data": {
            "text/plain": [
              "Dificuldade média      534\n",
              "Dificuldade baixa      287\n",
              "Dificuldade elevada    214\n",
              "Name: dificuldade, dtype: int64"
            ]
          },
          "metadata": {
            "tags": []
          },
          "execution_count": 190
        }
      ]
    },
    {
      "cell_type": "code",
      "metadata": {
        "id": "H1uaISA8yLHX",
        "colab_type": "code",
        "colab": {}
      },
      "source": [
        "receitas_concat.to_csv(r\"receitas_passos_ingrediente.csv\" ,index = False, header=True)"
      ],
      "execution_count": 199,
      "outputs": []
    },
    {
      "cell_type": "code",
      "metadata": {
        "id": "Lb47MN28fnUj",
        "colab_type": "code",
        "colab": {
          "base_uri": "https://localhost:8080/",
          "height": 85
        },
        "outputId": "9f283104-f8bc-440d-c06d-858a8af30397"
      },
      "source": [
        "from sklearn.model_selection import train_test_split\n",
        "import numpy as np\n",
        "\n",
        "x = receitas_concat[['quant_ingredientes',\t'quant_passos_preparo']]\n",
        "y = receitas_concat['dificuldade']\n",
        "\n",
        "np.random.seed(43267)\n",
        "\n",
        "x_treino, x_teste, y_treino, y_teste = train_test_split(x, y)\n",
        "\n",
        "print(x_treino.shape)\n",
        "print(x_teste.shape)\n",
        "print(y_treino.shape)\n",
        "print(y_teste.shape)"
      ],
      "execution_count": 200,
      "outputs": [
        {
          "output_type": "stream",
          "text": [
            "(776, 2)\n",
            "(259, 2)\n",
            "(776,)\n",
            "(259,)\n"
          ],
          "name": "stdout"
        }
      ]
    },
    {
      "cell_type": "code",
      "metadata": {
        "id": "r_VeKLlYr3_1",
        "colab_type": "code",
        "colab": {}
      },
      "source": [
        "from sklearn import tree\n",
        "\n",
        "classificador = tree.DecisionTreeClassifier()\n",
        "\n",
        "modelo_tree_receitas = classificador.fit(x_treino,y_treino)"
      ],
      "execution_count": 201,
      "outputs": []
    },
    {
      "cell_type": "code",
      "metadata": {
        "id": "X8XJUxGztUX1",
        "colab_type": "code",
        "colab": {}
      },
      "source": [
        "predicao = modelo_tree_receitas.predict(x_teste)"
      ],
      "execution_count": 202,
      "outputs": []
    },
    {
      "cell_type": "code",
      "metadata": {
        "id": "re7NSM1Xuv8e",
        "colab_type": "code",
        "colab": {}
      },
      "source": [
        "validar = y_teste == predicao"
      ],
      "execution_count": 203,
      "outputs": []
    },
    {
      "cell_type": "code",
      "metadata": {
        "id": "jef56_EGvuoW",
        "colab_type": "code",
        "colab": {
          "base_uri": "https://localhost:8080/",
          "height": 68
        },
        "outputId": "79d4b5f0-09f0-4a4f-8e32-60c0f4bb2e35"
      },
      "source": [
        "validar.value_counts()"
      ],
      "execution_count": 204,
      "outputs": [
        {
          "output_type": "execute_result",
          "data": {
            "text/plain": [
              "True     249\n",
              "False     10\n",
              "Name: dificuldade, dtype: int64"
            ]
          },
          "metadata": {
            "tags": []
          },
          "execution_count": 204
        }
      ]
    },
    {
      "cell_type": "code",
      "metadata": {
        "id": "QN8tgX9_vvkX",
        "colab_type": "code",
        "colab": {}
      },
      "source": [
        "predicao_treino = modelo_tree_receitas.predict(x_treino)"
      ],
      "execution_count": 205,
      "outputs": []
    },
    {
      "cell_type": "code",
      "metadata": {
        "id": "9_m1Dw7dw3Vk",
        "colab_type": "code",
        "colab": {}
      },
      "source": [
        "validar_treino = y_treino == predicao_treino"
      ],
      "execution_count": 206,
      "outputs": []
    },
    {
      "cell_type": "code",
      "metadata": {
        "id": "Ra6QjS8Aw_G2",
        "colab_type": "code",
        "colab": {
          "base_uri": "https://localhost:8080/",
          "height": 68
        },
        "outputId": "96f6905a-2878-4fe0-9d2c-bf634b643ff8"
      },
      "source": [
        "validar_treino.value_counts()"
      ],
      "execution_count": 207,
      "outputs": [
        {
          "output_type": "execute_result",
          "data": {
            "text/plain": [
              "True     746\n",
              "False     30\n",
              "Name: dificuldade, dtype: int64"
            ]
          },
          "metadata": {
            "tags": []
          },
          "execution_count": 207
        }
      ]
    },
    {
      "cell_type": "code",
      "metadata": {
        "id": "JUo0wqyrhcS8",
        "colab_type": "code",
        "colab": {}
      },
      "source": [
        ""
      ],
      "execution_count": null,
      "outputs": []
    },
    {
      "cell_type": "markdown",
      "metadata": {
        "id": "pFteUpQNddP_",
        "colab_type": "text"
      },
      "source": [
        "## Graficos\n"
      ]
    },
    {
      "cell_type": "code",
      "metadata": {
        "colab_type": "code",
        "id": "VfBM1hXAdxKv",
        "colab": {
          "base_uri": "https://localhost:8080/",
          "height": 204
        },
        "outputId": "38afb280-81c9-4d74-ce74-8d2eb9a10804"
      },
      "source": [
        "receitas = pd.read_csv('receitas.csv')\n",
        "receitas.head()"
      ],
      "execution_count": 139,
      "outputs": [
        {
          "output_type": "execute_result",
          "data": {
            "text/html": [
              "<div>\n",
              "<style scoped>\n",
              "    .dataframe tbody tr th:only-of-type {\n",
              "        vertical-align: middle;\n",
              "    }\n",
              "\n",
              "    .dataframe tbody tr th {\n",
              "        vertical-align: top;\n",
              "    }\n",
              "\n",
              "    .dataframe thead th {\n",
              "        text-align: right;\n",
              "    }\n",
              "</style>\n",
              "<table border=\"1\" class=\"dataframe\">\n",
              "  <thead>\n",
              "    <tr style=\"text-align: right;\">\n",
              "      <th></th>\n",
              "      <th>tempo_de_preparo</th>\n",
              "      <th>dificuldade</th>\n",
              "      <th>quant_ingredientes</th>\n",
              "      <th>quant_passos_preparo</th>\n",
              "    </tr>\n",
              "  </thead>\n",
              "  <tbody>\n",
              "    <tr>\n",
              "      <th>0</th>\n",
              "      <td>30</td>\n",
              "      <td>Dificuldade baixa</td>\n",
              "      <td>5</td>\n",
              "      <td>16</td>\n",
              "    </tr>\n",
              "    <tr>\n",
              "      <th>1</th>\n",
              "      <td>45</td>\n",
              "      <td>Dificuldade baixa</td>\n",
              "      <td>9</td>\n",
              "      <td>11</td>\n",
              "    </tr>\n",
              "    <tr>\n",
              "      <th>2</th>\n",
              "      <td>45</td>\n",
              "      <td>Dificuldade baixa</td>\n",
              "      <td>11</td>\n",
              "      <td>21</td>\n",
              "    </tr>\n",
              "    <tr>\n",
              "      <th>3</th>\n",
              "      <td>15</td>\n",
              "      <td>Dificuldade baixa</td>\n",
              "      <td>9</td>\n",
              "      <td>11</td>\n",
              "    </tr>\n",
              "    <tr>\n",
              "      <th>4</th>\n",
              "      <td>10</td>\n",
              "      <td>Dificuldade baixa</td>\n",
              "      <td>5</td>\n",
              "      <td>21</td>\n",
              "    </tr>\n",
              "  </tbody>\n",
              "</table>\n",
              "</div>"
            ],
            "text/plain": [
              "   tempo_de_preparo  ... quant_passos_preparo\n",
              "0                30  ...                   16\n",
              "1                45  ...                   11\n",
              "2                45  ...                   21\n",
              "3                15  ...                   11\n",
              "4                10  ...                   21\n",
              "\n",
              "[5 rows x 4 columns]"
            ]
          },
          "metadata": {
            "tags": []
          },
          "execution_count": 139
        }
      ]
    },
    {
      "cell_type": "code",
      "metadata": {
        "id": "lR9sEoxKgboK",
        "colab_type": "code",
        "colab": {
          "base_uri": "https://localhost:8080/",
          "height": 407
        },
        "outputId": "18075927-08f9-4aee-c32c-914657a72202"
      },
      "source": [
        "import matplotlib.pyplot as plt\n",
        "\n",
        "fig, ax = plt.subplots(figsize=(9,6),)\n",
        "plt.title(\"quant_passos_preparo\")\n",
        "ax.scatter(x=receitas_concat['dificuldade'],y= receitas_concat['quant_passos_preparo'],\n",
        "               alpha=0.5, edgecolors='none')"
      ],
      "execution_count": 122,
      "outputs": [
        {
          "output_type": "execute_result",
          "data": {
            "text/plain": [
              "<matplotlib.collections.PathCollection at 0x7f74ce34cc18>"
            ]
          },
          "metadata": {
            "tags": []
          },
          "execution_count": 122
        },
        {
          "output_type": "display_data",
          "data": {
            "image/png": "[encoded data removed]",
            "text/plain": [
              "<Figure size 648x432 with 1 Axes>"
            ]
          },
          "metadata": {
            "tags": [],
            "needs_background": "light"
          }
        }
      ]
    },
    {
      "cell_type": "code",
      "metadata": {
        "colab_type": "code",
        "id": "meXwLh-ii7xe",
        "colab": {
          "base_uri": "https://localhost:8080/",
          "height": 407
        },
        "outputId": "32a68ff5-9333-417d-d06e-2fc25fc4258a"
      },
      "source": [
        "import matplotlib.pyplot as plt\n",
        "\n",
        "fig, ax = plt.subplots(figsize=(9,6),)\n",
        "plt.title(\"quant_ingredientes\")\n",
        "ax.scatter(x=receitas_concat['dificuldade'],y= receitas_concat['quant_ingredientes'],\n",
        "               alpha=0.5, edgecolors='none')"
      ],
      "execution_count": 125,
      "outputs": [
        {
          "output_type": "execute_result",
          "data": {
            "text/plain": [
              "<matplotlib.collections.PathCollection at 0x7f74ce29af98>"
            ]
          },
          "metadata": {
            "tags": []
          },
          "execution_count": 125
        },
        {
          "output_type": "display_data",
          "data": {
            "image/png": "[encoded data removed]",
            "text/plain": [
              "<Figure size 648x432 with 1 Axes>"
            ]
          },
          "metadata": {
            "tags": [],
            "needs_background": "light"
          }
        }
      ]
    },
    {
      "cell_type": "code",
      "metadata": {
        "id": "djigKt-KqwS5",
        "colab_type": "code",
        "colab": {
          "base_uri": "https://localhost:8080/",
          "height": 786
        },
        "outputId": "9a9b6c90-b133-437f-c0d1-3df3f35c193a"
      },
      "source": [
        "faceis = receitas.query(\"dificuldade == 'Dificuldade baixa'\")['quant_ingredientes'].value_counts()\n",
        "plt.figure(figsize=(12,6))\n",
        "plt.title('Dificuldade baixa - quant_ingredientes')\n",
        "faceis.plot(kind=\"bar\")\n",
        "\n",
        "faceis = receitas.query(\"dificuldade == 'Dificuldade baixa'\")['quant_passos_preparo'].value_counts()\n",
        "plt.figure(figsize=(12,6))\n",
        "plt.title('Dificuldade baixa - quant_passos_preparo')\n",
        "faceis.plot(kind=\"bar\")"
      ],
      "execution_count": 164,
      "outputs": [
        {
          "output_type": "execute_result",
          "data": {
            "text/plain": [
              "<matplotlib.axes._subplots.AxesSubplot at 0x7f74cd4b12b0>"
            ]
          },
          "metadata": {
            "tags": []
          },
          "execution_count": 164
        },
        {
          "output_type": "display_data",
          "data": {
            "image/png": "[encoded data removed]",
            "text/plain": [
              "<Figure size 864x432 with 1 Axes>"
            ]
          },
          "metadata": {
            "tags": [],
            "needs_background": "light"
          }
        },
        {
          "output_type": "display_data",
          "data": {
            "image/png": "[encoded data removed]",
            "text/plain": [
              "<Figure size 864x432 with 1 Axes>"
            ]
          },
          "metadata": {
            "tags": [],
            "needs_background": "light"
          }
        }
      ]
    },
    {
      "cell_type": "code",
      "metadata": {
        "id": "iCRuESETrVoq",
        "colab_type": "code",
        "colab": {
          "base_uri": "https://localhost:8080/",
          "height": 786
        },
        "outputId": "f91622ca-3cd2-4fa1-dbad-bcdef7096ba4"
      },
      "source": [
        "medias = receitas.query(\"dificuldade == 'Dificuldade média'\")['quant_ingredientes'].value_counts()\n",
        "plt.figure(figsize=(12,6))\n",
        "plt.title('Dificuldade média - quant_ingredientes')\n",
        "medias.plot(kind=\"bar\")\n",
        "\n",
        "medias = receitas.query(\"dificuldade == 'Dificuldade média'\")['quant_passos_preparo'].value_counts()\n",
        "plt.figure(figsize=(12,6))\n",
        "plt.title('Dificuldade média - quant_passos_preparo')\n",
        "medias.plot(kind=\"bar\")"
      ],
      "execution_count": 167,
      "outputs": [
        {
          "output_type": "execute_result",
          "data": {
            "text/plain": [
              "<matplotlib.axes._subplots.AxesSubplot at 0x7f74cd640b00>"
            ]
          },
          "metadata": {
            "tags": []
          },
          "execution_count": 167
        },
        {
          "output_type": "display_data",
          "data": {
            "image/png": "[encoded data removed]",
            "text/plain": [
              "<Figure size 864x432 with 1 Axes>"
            ]
          },
          "metadata": {
            "tags": [],
            "needs_background": "light"
          }
        },
        {
          "output_type": "display_data",
          "data": {
            "image/png": "[encoded data removed]",
            "text/plain": [
              "<Figure size 864x432 with 1 Axes>"
            ]
          },
          "metadata": {
            "tags": [],
            "needs_background": "light"
          }
        }
      ]
    },
    {
      "cell_type": "code",
      "metadata": {
        "id": "7elYUOf1rwjb",
        "colab_type": "code",
        "colab": {
          "base_uri": "https://localhost:8080/",
          "height": 786
        },
        "outputId": "c40804de-9b63-4b80-f071-cfac483306b9"
      },
      "source": [
        "dificeis = receitas.query(\"dificuldade == 'Dificuldade elevada'\")['quant_ingredientes'].value_counts()\n",
        "plt.figure(figsize=(12,6))\n",
        "plt.title('Dificuldade elevada - quant_ingredientes')\n",
        "dificeis.plot(kind=\"bar\")\n",
        "\n",
        "\n",
        "dificeis = receitas.query(\"dificuldade == 'Dificuldade elevada'\")['quant_passos_preparo'].value_counts()\n",
        "plt.figure(figsize=(12,6))\n",
        "plt.title('Dificuldade elevada - quant_passos_preparo')\n",
        "dificeis.plot(kind=\"bar\")\n"
      ],
      "execution_count": 166,
      "outputs": [
        {
          "output_type": "execute_result",
          "data": {
            "text/plain": [
              "<matplotlib.axes._subplots.AxesSubplot at 0x7f74cdf92ef0>"
            ]
          },
          "metadata": {
            "tags": []
          },
          "execution_count": 166
        },
        {
          "output_type": "display_data",
          "data": {
            "image/png": "[encoded data removed]",
            "text/plain": [
              "<Figure size 864x432 with 1 Axes>"
            ]
          },
          "metadata": {
            "tags": [],
            "needs_background": "light"
          }
        },
        {
          "output_type": "display_data",
          "data": {
            "image/png": "[encoded data removed]",
            "text/plain": [
              "<Figure size 864x432 with 1 Axes>"
            ]
          },
          "metadata": {
            "tags": [],
            "needs_background": "light"
          }
        }
      ]
    },
    {
      "cell_type": "code",
      "metadata": {
        "id": "2BAj6nzjsNru",
        "colab_type": "code",
        "colab": {}
      },
      "source": [
        ""
      ],
      "execution_count": null,
      "outputs": []
    }
  ]
}