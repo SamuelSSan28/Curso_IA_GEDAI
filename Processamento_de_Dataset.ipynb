{
  "nbformat": 4,
  "nbformat_minor": 0,
  "metadata": {
    "colab": {
      "name": "Processamento_de_Dataset.ipynb",
      "provenance": [],
      "toc_visible": true,
      "authorship_tag": "ABX9TyPfCs6ZuU1R1crUiNuyM0TV",
      "include_colab_link": true
    },
    "kernelspec": {
      "name": "python3",
      "display_name": "Python 3"
    }
  },
  "cells": [
    {
      "cell_type": "markdown",
      "metadata": {
        "id": "view-in-github",
        "colab_type": "text"
      },
      "source": [
        "<a href=\"https://colab.research.google.com/github/SamuelSSan28/Curso_IA_GEDAI/blob/master/Processamento_de_Dataset.ipynb\" target=\"_parent\"><img src=\"https://colab.research.google.com/assets/colab-badge.svg\" alt=\"Open In Colab\"/></a>"
      ]
    },
    {
      "cell_type": "markdown",
      "metadata": {
        "id": "dpIi36wAZ2EB",
        "colab_type": "text"
      },
      "source": [
        "## Pré-Processamento  do Dataset\n"
      ]
    },
    {
      "cell_type": "code",
      "metadata": {
        "id": "OLcCtYYOsnry",
        "colab_type": "code",
        "colab": {}
      },
      "source": [
        "import pandas as pd"
      ],
      "execution_count": 1,
      "outputs": []
    },
    {
      "cell_type": "code",
      "metadata": {
        "id": "sKGO_P-fsGzs",
        "colab_type": "code",
        "colab": {
          "base_uri": "https://localhost:8080/",
          "height": 204
        },
        "outputId": "eaa421b2-b6e8-4d84-fae1-d3c72d4aa753"
      },
      "source": [
        "receitas = pd.read_csv('https://raw.githubusercontent.com/SamuelSSan28/Curso_IA_GEDAI/master/receitas.csv')\n",
        "receitas.head()"
      ],
      "execution_count": 2,
      "outputs": [
        {
          "output_type": "execute_result",
          "data": {
            "text/html": [
              "<div>\n",
              "<style scoped>\n",
              "    .dataframe tbody tr th:only-of-type {\n",
              "        vertical-align: middle;\n",
              "    }\n",
              "\n",
              "    .dataframe tbody tr th {\n",
              "        vertical-align: top;\n",
              "    }\n",
              "\n",
              "    .dataframe thead th {\n",
              "        text-align: right;\n",
              "    }\n",
              "</style>\n",
              "<table border=\"1\" class=\"dataframe\">\n",
              "  <thead>\n",
              "    <tr style=\"text-align: right;\">\n",
              "      <th></th>\n",
              "      <th>tempo_de_preparo</th>\n",
              "      <th>dificuldade</th>\n",
              "      <th>quant_ingredientes</th>\n",
              "      <th>quant_passos_preparo</th>\n",
              "    </tr>\n",
              "  </thead>\n",
              "  <tbody>\n",
              "    <tr>\n",
              "      <th>0</th>\n",
              "      <td>30</td>\n",
              "      <td>Dificuldade baixa</td>\n",
              "      <td>5</td>\n",
              "      <td>16</td>\n",
              "    </tr>\n",
              "    <tr>\n",
              "      <th>1</th>\n",
              "      <td>45</td>\n",
              "      <td>Dificuldade baixa</td>\n",
              "      <td>9</td>\n",
              "      <td>11</td>\n",
              "    </tr>\n",
              "    <tr>\n",
              "      <th>2</th>\n",
              "      <td>45</td>\n",
              "      <td>Dificuldade baixa</td>\n",
              "      <td>11</td>\n",
              "      <td>21</td>\n",
              "    </tr>\n",
              "    <tr>\n",
              "      <th>3</th>\n",
              "      <td>15</td>\n",
              "      <td>Dificuldade baixa</td>\n",
              "      <td>9</td>\n",
              "      <td>11</td>\n",
              "    </tr>\n",
              "    <tr>\n",
              "      <th>4</th>\n",
              "      <td>10</td>\n",
              "      <td>Dificuldade baixa</td>\n",
              "      <td>5</td>\n",
              "      <td>21</td>\n",
              "    </tr>\n",
              "  </tbody>\n",
              "</table>\n",
              "</div>"
            ],
            "text/plain": [
              "   tempo_de_preparo  ... quant_passos_preparo\n",
              "0                30  ...                   16\n",
              "1                45  ...                   11\n",
              "2                45  ...                   21\n",
              "3                15  ...                   11\n",
              "4                10  ...                   21\n",
              "\n",
              "[5 rows x 4 columns]"
            ]
          },
          "metadata": {
            "tags": []
          },
          "execution_count": 2
        }
      ]
    },
    {
      "cell_type": "code",
      "metadata": {
        "id": "Kss2c173zLLS",
        "colab_type": "code",
        "colab": {
          "base_uri": "https://localhost:8080/",
          "height": 85
        },
        "outputId": "3a338f3c-7951-440b-ab08-6984427bc897"
      },
      "source": [
        "receitas['dificuldade'].value_counts()"
      ],
      "execution_count": 3,
      "outputs": [
        {
          "output_type": "execute_result",
          "data": {
            "text/plain": [
              "Dificuldade baixa      1760\n",
              "Dificuldade média      1745\n",
              "Dificuldade elevada      91\n",
              "Name: dificuldade, dtype: int64"
            ]
          },
          "metadata": {
            "tags": []
          },
          "execution_count": 3
        }
      ]
    },
    {
      "cell_type": "code",
      "metadata": {
        "id": "KLEzxL0hsy38",
        "colab_type": "code",
        "colab": {
          "base_uri": "https://localhost:8080/",
          "height": 541
        },
        "outputId": "a505f25a-f582-4501-cee0-62e32c16651c"
      },
      "source": [
        "dificeis = receitas.loc[(receitas[\"quant_passos_preparo\"] >= 30) | (receitas[\"quant_ingredientes\"] >=  20) | (receitas[\"dificuldade\"] == \"Dificuldade elevada\")]\n",
        "dificeis['dificuldade']  = [\"Dificuldade elevada\"]* len(dificeis)\n",
        "dificeis"
      ],
      "execution_count": 4,
      "outputs": [
        {
          "output_type": "stream",
          "text": [
            "/usr/local/lib/python3.6/dist-packages/ipykernel_launcher.py:2: SettingWithCopyWarning: \n",
            "A value is trying to be set on a copy of a slice from a DataFrame.\n",
            "Try using .loc[row_indexer,col_indexer] = value instead\n",
            "\n",
            "See the caveats in the documentation: https://pandas.pydata.org/pandas-docs/stable/user_guide/indexing.html#returning-a-view-versus-a-copy\n",
            "  \n"
          ],
          "name": "stderr"
        },
        {
          "output_type": "execute_result",
          "data": {
            "text/html": [
              "<div>\n",
              "<style scoped>\n",
              "    .dataframe tbody tr th:only-of-type {\n",
              "        vertical-align: middle;\n",
              "    }\n",
              "\n",
              "    .dataframe tbody tr th {\n",
              "        vertical-align: top;\n",
              "    }\n",
              "\n",
              "    .dataframe thead th {\n",
              "        text-align: right;\n",
              "    }\n",
              "</style>\n",
              "<table border=\"1\" class=\"dataframe\">\n",
              "  <thead>\n",
              "    <tr style=\"text-align: right;\">\n",
              "      <th></th>\n",
              "      <th>tempo_de_preparo</th>\n",
              "      <th>dificuldade</th>\n",
              "      <th>quant_ingredientes</th>\n",
              "      <th>quant_passos_preparo</th>\n",
              "    </tr>\n",
              "  </thead>\n",
              "  <tbody>\n",
              "    <tr>\n",
              "      <th>93</th>\n",
              "      <td>45</td>\n",
              "      <td>Dificuldade elevada</td>\n",
              "      <td>15</td>\n",
              "      <td>32</td>\n",
              "    </tr>\n",
              "    <tr>\n",
              "      <th>135</th>\n",
              "      <td>1440</td>\n",
              "      <td>Dificuldade elevada</td>\n",
              "      <td>5</td>\n",
              "      <td>33</td>\n",
              "    </tr>\n",
              "    <tr>\n",
              "      <th>198</th>\n",
              "      <td>45</td>\n",
              "      <td>Dificuldade elevada</td>\n",
              "      <td>8</td>\n",
              "      <td>31</td>\n",
              "    </tr>\n",
              "    <tr>\n",
              "      <th>231</th>\n",
              "      <td>90</td>\n",
              "      <td>Dificuldade elevada</td>\n",
              "      <td>13</td>\n",
              "      <td>30</td>\n",
              "    </tr>\n",
              "    <tr>\n",
              "      <th>246</th>\n",
              "      <td>150</td>\n",
              "      <td>Dificuldade elevada</td>\n",
              "      <td>14</td>\n",
              "      <td>36</td>\n",
              "    </tr>\n",
              "    <tr>\n",
              "      <th>...</th>\n",
              "      <td>...</td>\n",
              "      <td>...</td>\n",
              "      <td>...</td>\n",
              "      <td>...</td>\n",
              "    </tr>\n",
              "    <tr>\n",
              "      <th>3552</th>\n",
              "      <td>30</td>\n",
              "      <td>Dificuldade elevada</td>\n",
              "      <td>20</td>\n",
              "      <td>15</td>\n",
              "    </tr>\n",
              "    <tr>\n",
              "      <th>3554</th>\n",
              "      <td>150</td>\n",
              "      <td>Dificuldade elevada</td>\n",
              "      <td>21</td>\n",
              "      <td>17</td>\n",
              "    </tr>\n",
              "    <tr>\n",
              "      <th>3561</th>\n",
              "      <td>90</td>\n",
              "      <td>Dificuldade elevada</td>\n",
              "      <td>20</td>\n",
              "      <td>18</td>\n",
              "    </tr>\n",
              "    <tr>\n",
              "      <th>3578</th>\n",
              "      <td>45</td>\n",
              "      <td>Dificuldade elevada</td>\n",
              "      <td>21</td>\n",
              "      <td>16</td>\n",
              "    </tr>\n",
              "    <tr>\n",
              "      <th>3581</th>\n",
              "      <td>90</td>\n",
              "      <td>Dificuldade elevada</td>\n",
              "      <td>22</td>\n",
              "      <td>20</td>\n",
              "    </tr>\n",
              "  </tbody>\n",
              "</table>\n",
              "<p>214 rows × 4 columns</p>\n",
              "</div>"
            ],
            "text/plain": [
              "      tempo_de_preparo  ... quant_passos_preparo\n",
              "93                  45  ...                   32\n",
              "135               1440  ...                   33\n",
              "198                 45  ...                   31\n",
              "231                 90  ...                   30\n",
              "246                150  ...                   36\n",
              "...                ...  ...                  ...\n",
              "3552                30  ...                   15\n",
              "3554               150  ...                   17\n",
              "3561                90  ...                   18\n",
              "3578                45  ...                   16\n",
              "3581                90  ...                   20\n",
              "\n",
              "[214 rows x 4 columns]"
            ]
          },
          "metadata": {
            "tags": []
          },
          "execution_count": 4
        }
      ]
    },
    {
      "cell_type": "code",
      "metadata": {
        "colab_type": "code",
        "id": "NfbCyizDmzDf",
        "colab": {
          "base_uri": "https://localhost:8080/",
          "height": 419
        },
        "outputId": "fa8f6eb5-1772-4bde-dc53-1fdfa22576f1"
      },
      "source": [
        "medias = receitas.loc[(receitas[\"quant_passos_preparo\"] < 25 ) & (receitas[\"quant_passos_preparo\"] >= 15 )]\n",
        "medias = medias.loc[(medias[\"quant_ingredientes\"] >  10) &(medias[\"quant_ingredientes\"] < 20) & (medias[\"dificuldade\"] == \"Dificuldade média\")]\n",
        "medias"
      ],
      "execution_count": 5,
      "outputs": [
        {
          "output_type": "execute_result",
          "data": {
            "text/html": [
              "<div>\n",
              "<style scoped>\n",
              "    .dataframe tbody tr th:only-of-type {\n",
              "        vertical-align: middle;\n",
              "    }\n",
              "\n",
              "    .dataframe tbody tr th {\n",
              "        vertical-align: top;\n",
              "    }\n",
              "\n",
              "    .dataframe thead th {\n",
              "        text-align: right;\n",
              "    }\n",
              "</style>\n",
              "<table border=\"1\" class=\"dataframe\">\n",
              "  <thead>\n",
              "    <tr style=\"text-align: right;\">\n",
              "      <th></th>\n",
              "      <th>tempo_de_preparo</th>\n",
              "      <th>dificuldade</th>\n",
              "      <th>quant_ingredientes</th>\n",
              "      <th>quant_passos_preparo</th>\n",
              "    </tr>\n",
              "  </thead>\n",
              "  <tbody>\n",
              "    <tr>\n",
              "      <th>1854</th>\n",
              "      <td>45</td>\n",
              "      <td>Dificuldade média</td>\n",
              "      <td>14</td>\n",
              "      <td>17</td>\n",
              "    </tr>\n",
              "    <tr>\n",
              "      <th>1855</th>\n",
              "      <td>480</td>\n",
              "      <td>Dificuldade média</td>\n",
              "      <td>12</td>\n",
              "      <td>16</td>\n",
              "    </tr>\n",
              "    <tr>\n",
              "      <th>1861</th>\n",
              "      <td>45</td>\n",
              "      <td>Dificuldade média</td>\n",
              "      <td>13</td>\n",
              "      <td>24</td>\n",
              "    </tr>\n",
              "    <tr>\n",
              "      <th>1863</th>\n",
              "      <td>45</td>\n",
              "      <td>Dificuldade média</td>\n",
              "      <td>11</td>\n",
              "      <td>19</td>\n",
              "    </tr>\n",
              "    <tr>\n",
              "      <th>1864</th>\n",
              "      <td>90</td>\n",
              "      <td>Dificuldade média</td>\n",
              "      <td>13</td>\n",
              "      <td>16</td>\n",
              "    </tr>\n",
              "    <tr>\n",
              "      <th>...</th>\n",
              "      <td>...</td>\n",
              "      <td>...</td>\n",
              "      <td>...</td>\n",
              "      <td>...</td>\n",
              "    </tr>\n",
              "    <tr>\n",
              "      <th>3586</th>\n",
              "      <td>150</td>\n",
              "      <td>Dificuldade média</td>\n",
              "      <td>19</td>\n",
              "      <td>18</td>\n",
              "    </tr>\n",
              "    <tr>\n",
              "      <th>3589</th>\n",
              "      <td>90</td>\n",
              "      <td>Dificuldade média</td>\n",
              "      <td>12</td>\n",
              "      <td>24</td>\n",
              "    </tr>\n",
              "    <tr>\n",
              "      <th>3590</th>\n",
              "      <td>1440</td>\n",
              "      <td>Dificuldade média</td>\n",
              "      <td>15</td>\n",
              "      <td>16</td>\n",
              "    </tr>\n",
              "    <tr>\n",
              "      <th>3591</th>\n",
              "      <td>45</td>\n",
              "      <td>Dificuldade média</td>\n",
              "      <td>13</td>\n",
              "      <td>16</td>\n",
              "    </tr>\n",
              "    <tr>\n",
              "      <th>3593</th>\n",
              "      <td>90</td>\n",
              "      <td>Dificuldade média</td>\n",
              "      <td>19</td>\n",
              "      <td>15</td>\n",
              "    </tr>\n",
              "  </tbody>\n",
              "</table>\n",
              "<p>534 rows × 4 columns</p>\n",
              "</div>"
            ],
            "text/plain": [
              "      tempo_de_preparo  ... quant_passos_preparo\n",
              "1854                45  ...                   17\n",
              "1855               480  ...                   16\n",
              "1861                45  ...                   24\n",
              "1863                45  ...                   19\n",
              "1864                90  ...                   16\n",
              "...                ...  ...                  ...\n",
              "3586               150  ...                   18\n",
              "3589                90  ...                   24\n",
              "3590              1440  ...                   16\n",
              "3591                45  ...                   16\n",
              "3593                90  ...                   15\n",
              "\n",
              "[534 rows x 4 columns]"
            ]
          },
          "metadata": {
            "tags": []
          },
          "execution_count": 5
        }
      ]
    },
    {
      "cell_type": "code",
      "metadata": {
        "colab_type": "code",
        "id": "eoY4AGICmzR8",
        "colab": {
          "base_uri": "https://localhost:8080/",
          "height": 419
        },
        "outputId": "52604aef-397a-45c4-b627-921109cfe834"
      },
      "source": [
        "faceis = receitas.loc[(receitas[\"quant_passos_preparo\"] < 10 ) & (receitas[\"quant_ingredientes\"] <  10) & (receitas[\"dificuldade\"] == \"Dificuldade baixa\")]\n",
        "faceis"
      ],
      "execution_count": 6,
      "outputs": [
        {
          "output_type": "execute_result",
          "data": {
            "text/html": [
              "<div>\n",
              "<style scoped>\n",
              "    .dataframe tbody tr th:only-of-type {\n",
              "        vertical-align: middle;\n",
              "    }\n",
              "\n",
              "    .dataframe tbody tr th {\n",
              "        vertical-align: top;\n",
              "    }\n",
              "\n",
              "    .dataframe thead th {\n",
              "        text-align: right;\n",
              "    }\n",
              "</style>\n",
              "<table border=\"1\" class=\"dataframe\">\n",
              "  <thead>\n",
              "    <tr style=\"text-align: right;\">\n",
              "      <th></th>\n",
              "      <th>tempo_de_preparo</th>\n",
              "      <th>dificuldade</th>\n",
              "      <th>quant_ingredientes</th>\n",
              "      <th>quant_passos_preparo</th>\n",
              "    </tr>\n",
              "  </thead>\n",
              "  <tbody>\n",
              "    <tr>\n",
              "      <th>15</th>\n",
              "      <td>15</td>\n",
              "      <td>Dificuldade baixa</td>\n",
              "      <td>7</td>\n",
              "      <td>9</td>\n",
              "    </tr>\n",
              "    <tr>\n",
              "      <th>16</th>\n",
              "      <td>15</td>\n",
              "      <td>Dificuldade baixa</td>\n",
              "      <td>6</td>\n",
              "      <td>9</td>\n",
              "    </tr>\n",
              "    <tr>\n",
              "      <th>56</th>\n",
              "      <td>30</td>\n",
              "      <td>Dificuldade baixa</td>\n",
              "      <td>7</td>\n",
              "      <td>7</td>\n",
              "    </tr>\n",
              "    <tr>\n",
              "      <th>106</th>\n",
              "      <td>30</td>\n",
              "      <td>Dificuldade baixa</td>\n",
              "      <td>9</td>\n",
              "      <td>9</td>\n",
              "    </tr>\n",
              "    <tr>\n",
              "      <th>144</th>\n",
              "      <td>90</td>\n",
              "      <td>Dificuldade baixa</td>\n",
              "      <td>4</td>\n",
              "      <td>8</td>\n",
              "    </tr>\n",
              "    <tr>\n",
              "      <th>...</th>\n",
              "      <td>...</td>\n",
              "      <td>...</td>\n",
              "      <td>...</td>\n",
              "      <td>...</td>\n",
              "    </tr>\n",
              "    <tr>\n",
              "      <th>1746</th>\n",
              "      <td>10</td>\n",
              "      <td>Dificuldade baixa</td>\n",
              "      <td>4</td>\n",
              "      <td>7</td>\n",
              "    </tr>\n",
              "    <tr>\n",
              "      <th>1749</th>\n",
              "      <td>30</td>\n",
              "      <td>Dificuldade baixa</td>\n",
              "      <td>6</td>\n",
              "      <td>8</td>\n",
              "    </tr>\n",
              "    <tr>\n",
              "      <th>1750</th>\n",
              "      <td>10</td>\n",
              "      <td>Dificuldade baixa</td>\n",
              "      <td>8</td>\n",
              "      <td>6</td>\n",
              "    </tr>\n",
              "    <tr>\n",
              "      <th>1751</th>\n",
              "      <td>30</td>\n",
              "      <td>Dificuldade baixa</td>\n",
              "      <td>9</td>\n",
              "      <td>9</td>\n",
              "    </tr>\n",
              "    <tr>\n",
              "      <th>1756</th>\n",
              "      <td>15</td>\n",
              "      <td>Dificuldade baixa</td>\n",
              "      <td>4</td>\n",
              "      <td>8</td>\n",
              "    </tr>\n",
              "  </tbody>\n",
              "</table>\n",
              "<p>287 rows × 4 columns</p>\n",
              "</div>"
            ],
            "text/plain": [
              "      tempo_de_preparo  ... quant_passos_preparo\n",
              "15                  15  ...                    9\n",
              "16                  15  ...                    9\n",
              "56                  30  ...                    7\n",
              "106                 30  ...                    9\n",
              "144                 90  ...                    8\n",
              "...                ...  ...                  ...\n",
              "1746                10  ...                    7\n",
              "1749                30  ...                    8\n",
              "1750                10  ...                    6\n",
              "1751                30  ...                    9\n",
              "1756                15  ...                    8\n",
              "\n",
              "[287 rows x 4 columns]"
            ]
          },
          "metadata": {
            "tags": []
          },
          "execution_count": 6
        }
      ]
    },
    {
      "cell_type": "markdown",
      "metadata": {
        "id": "AlF_66iNiYai",
        "colab_type": "text"
      },
      "source": [
        "## Machine Learning"
      ]
    },
    {
      "cell_type": "code",
      "metadata": {
        "id": "cR5mSxVtawLK",
        "colab_type": "code",
        "colab": {}
      },
      "source": [
        "receitas_concat = pd.concat([faceis, medias,dificeis])"
      ],
      "execution_count": 7,
      "outputs": []
    },
    {
      "cell_type": "code",
      "metadata": {
        "id": "-W9kadbhbzmM",
        "colab_type": "code",
        "colab": {
          "base_uri": "https://localhost:8080/",
          "height": 34
        },
        "outputId": "5b9c2810-1a16-4381-c60d-6d1e6948522a"
      },
      "source": [
        "receitas_concat.shape"
      ],
      "execution_count": 8,
      "outputs": [
        {
          "output_type": "execute_result",
          "data": {
            "text/plain": [
              "(1035, 4)"
            ]
          },
          "metadata": {
            "tags": []
          },
          "execution_count": 8
        }
      ]
    },
    {
      "cell_type": "code",
      "metadata": {
        "id": "y7hN9w8qxTFq",
        "colab_type": "code",
        "colab": {
          "base_uri": "https://localhost:8080/",
          "height": 85
        },
        "outputId": "955846bc-8692-47ba-ef9a-aeb7f3ac9fe3"
      },
      "source": [
        "receitas_concat['dificuldade'].value_counts()"
      ],
      "execution_count": 9,
      "outputs": [
        {
          "output_type": "execute_result",
          "data": {
            "text/plain": [
              "Dificuldade média      534\n",
              "Dificuldade baixa      287\n",
              "Dificuldade elevada    214\n",
              "Name: dificuldade, dtype: int64"
            ]
          },
          "metadata": {
            "tags": []
          },
          "execution_count": 9
        }
      ]
    },
    {
      "cell_type": "code",
      "metadata": {
        "id": "H1uaISA8yLHX",
        "colab_type": "code",
        "colab": {}
      },
      "source": [
        "receitas_concat.to_csv(r\"receitas_passos_ingrediente.csv\" ,index = False, header=True)"
      ],
      "execution_count": 10,
      "outputs": []
    },
    {
      "cell_type": "code",
      "metadata": {
        "id": "Lb47MN28fnUj",
        "colab_type": "code",
        "colab": {
          "base_uri": "https://localhost:8080/",
          "height": 85
        },
        "outputId": "64a67ab8-e3e4-47c5-c25a-99760ef81384"
      },
      "source": [
        "from sklearn.model_selection import train_test_split\n",
        "import numpy as np\n",
        "\n",
        "x = receitas_concat[['quant_ingredientes',\t'quant_passos_preparo']]\n",
        "y = receitas_concat['dificuldade']\n",
        "\n",
        "np.random.seed(43267)\n",
        "\n",
        "x_treino, x_teste, y_treino, y_teste = train_test_split(x, y)\n",
        "\n",
        "print(x_treino.shape)\n",
        "print(x_teste.shape)\n",
        "print(y_treino.shape)\n",
        "print(y_teste.shape)"
      ],
      "execution_count": 11,
      "outputs": [
        {
          "output_type": "stream",
          "text": [
            "(776, 2)\n",
            "(259, 2)\n",
            "(776,)\n",
            "(259,)\n"
          ],
          "name": "stdout"
        }
      ]
    },
    {
      "cell_type": "code",
      "metadata": {
        "id": "r_VeKLlYr3_1",
        "colab_type": "code",
        "colab": {}
      },
      "source": [
        "from sklearn import tree\n",
        "from sklearn.metrics import accuracy_score\n",
        "classificador = tree.DecisionTreeClassifier()\n",
        "\n",
        "modelo_tree_receitas = classificador.fit(x_treino,y_treino)"
      ],
      "execution_count": 12,
      "outputs": []
    },
    {
      "cell_type": "code",
      "metadata": {
        "id": "X8XJUxGztUX1",
        "colab_type": "code",
        "colab": {}
      },
      "source": [
        "predicao = modelo_tree_receitas.predict(x_teste)"
      ],
      "execution_count": 13,
      "outputs": []
    },
    {
      "cell_type": "code",
      "metadata": {
        "id": "WALXaNKEY1mB",
        "colab_type": "code",
        "colab": {
          "base_uri": "https://localhost:8080/",
          "height": 34
        },
        "outputId": "2c535c53-54a2-4c7c-f051-dbf137413bf1"
      },
      "source": [
        "# Avaliar a precisão com o teste\n",
        "print(accuracy_score(y_teste, predicao)*100,\"%\")"
      ],
      "execution_count": 14,
      "outputs": [
        {
          "output_type": "stream",
          "text": [
            "96.13899613899613 %\n"
          ],
          "name": "stdout"
        }
      ]
    },
    {
      "cell_type": "code",
      "metadata": {
        "id": "QN8tgX9_vvkX",
        "colab_type": "code",
        "colab": {}
      },
      "source": [
        "predicao_treino = modelo_tree_receitas.predict(x_treino)"
      ],
      "execution_count": 15,
      "outputs": []
    },
    {
      "cell_type": "code",
      "metadata": {
        "id": "-qYTwIE9ZZA1",
        "colab_type": "code",
        "colab": {
          "base_uri": "https://localhost:8080/",
          "height": 34
        },
        "outputId": "080ad68f-19c1-45f5-91db-006ef6e102c8"
      },
      "source": [
        "# Avaliar a precisão com o treinamento\n",
        "print(accuracy_score(y_treino, predicao_treino)*100,\"%\")"
      ],
      "execution_count": 16,
      "outputs": [
        {
          "output_type": "stream",
          "text": [
            "96.1340206185567 %\n"
          ],
          "name": "stdout"
        }
      ]
    },
    {
      "cell_type": "markdown",
      "metadata": {
        "id": "5qCa_wGLI52Y",
        "colab_type": "text"
      },
      "source": [
        "## Classificando as outras Receitas\n"
      ]
    },
    {
      "cell_type": "code",
      "metadata": {
        "id": "hW9FzjPPJX7J",
        "colab_type": "code",
        "colab": {
          "base_uri": "https://localhost:8080/",
          "height": 564
        },
        "outputId": "37e54712-7bee-4277-c6ef-3f0e8c7b3c3b"
      },
      "source": [
        "receitas_full = pd.read_csv('receitas_full.csv')\n",
        "receitas_full.head()"
      ],
      "execution_count": 23,
      "outputs": [
        {
          "output_type": "execute_result",
          "data": {
            "text/html": [
              "<div>\n",
              "<style scoped>\n",
              "    .dataframe tbody tr th:only-of-type {\n",
              "        vertical-align: middle;\n",
              "    }\n",
              "\n",
              "    .dataframe tbody tr th {\n",
              "        vertical-align: top;\n",
              "    }\n",
              "\n",
              "    .dataframe thead th {\n",
              "        text-align: right;\n",
              "    }\n",
              "</style>\n",
              "<table border=\"1\" class=\"dataframe\">\n",
              "  <thead>\n",
              "    <tr style=\"text-align: right;\">\n",
              "      <th></th>\n",
              "      <th>id</th>\n",
              "      <th>titulo</th>\n",
              "      <th>categoria</th>\n",
              "      <th>tempo_preparo</th>\n",
              "      <th>rendimento</th>\n",
              "      <th>ingredientes</th>\n",
              "      <th>modo_preparo</th>\n",
              "      <th>imagem</th>\n",
              "    </tr>\n",
              "  </thead>\n",
              "  <tbody>\n",
              "    <tr>\n",
              "      <th>0</th>\n",
              "      <td>1</td>\n",
              "      <td>Receita de Bolo de laranja com casca e tudo</td>\n",
              "      <td>Receitas de Pão e bolos</td>\n",
              "      <td>45 Minutos</td>\n",
              "      <td>4 convidados</td>\n",
              "      <td>1 laranja inteira\\n3 ovos\\n175 gramas de farin...</td>\n",
              "      <td>Coloque na bancada todos os ingredientes neces...</td>\n",
              "      <td>https://t2.rg.ltmcdn.com/pt/images/9/5/2/bolo_...</td>\n",
              "    </tr>\n",
              "    <tr>\n",
              "      <th>1</th>\n",
              "      <td>2</td>\n",
              "      <td>Receita de Pão integral macio e úmido</td>\n",
              "      <td>Receitas de Pão e bolos</td>\n",
              "      <td>240 Minutos</td>\n",
              "      <td>8 convidados</td>\n",
              "      <td>Para o pré-fermento:\\n½ copo americano de água...</td>\n",
              "      <td>Para conseguir um pão fofinho e crescido comec...</td>\n",
              "      <td>https://t1.rg.ltmcdn.com/pt/images/1/3/3/pao_i...</td>\n",
              "    </tr>\n",
              "    <tr>\n",
              "      <th>2</th>\n",
              "      <td>3</td>\n",
              "      <td>Receita de Pão caseiro de massa mole e fofinho</td>\n",
              "      <td>Receitas de Pão e bolos</td>\n",
              "      <td>150 Minutos</td>\n",
              "      <td>1 convidado</td>\n",
              "      <td>½ quilograma de farinha de trigo (500 g) \\n1 c...</td>\n",
              "      <td>Comece por misturar a farinha e o sal numa tig...</td>\n",
              "      <td>https://t1.rg.ltmcdn.com/pt/images/7/3/3/pao_c...</td>\n",
              "    </tr>\n",
              "    <tr>\n",
              "      <th>3</th>\n",
              "      <td>4</td>\n",
              "      <td>Receita de Brownie vegano muito fácil</td>\n",
              "      <td>Receitas de Pão e bolos</td>\n",
              "      <td>45 Minutos</td>\n",
              "      <td>4 convidados</td>\n",
              "      <td>3 bananas maduras\\n¼ xícara de farinha de avei...</td>\n",
              "      <td>Pré aqueça o forno em 180ºC e separe os ingred...</td>\n",
              "      <td>https://t2.rg.ltmcdn.com/pt/images/0/2/4/brown...</td>\n",
              "    </tr>\n",
              "    <tr>\n",
              "      <th>4</th>\n",
              "      <td>5</td>\n",
              "      <td>Receita de Bolo de milho econômico</td>\n",
              "      <td>Receitas de Pão e bolos</td>\n",
              "      <td>45 Minutos</td>\n",
              "      <td>10 convidados</td>\n",
              "      <td>1 lata de milho sem a água \\n1 lata de água \\n...</td>\n",
              "      <td>Bata no liquidificador o milho, a água, o açúc...</td>\n",
              "      <td>https://t1.rg.ltmcdn.com/pt/images/3/7/4/bolo_...</td>\n",
              "    </tr>\n",
              "  </tbody>\n",
              "</table>\n",
              "</div>"
            ],
            "text/plain": [
              "   id  ...                                             imagem\n",
              "0   1  ...  https://t2.rg.ltmcdn.com/pt/images/9/5/2/bolo_...\n",
              "1   2  ...  https://t1.rg.ltmcdn.com/pt/images/1/3/3/pao_i...\n",
              "2   3  ...  https://t1.rg.ltmcdn.com/pt/images/7/3/3/pao_c...\n",
              "3   4  ...  https://t2.rg.ltmcdn.com/pt/images/0/2/4/brown...\n",
              "4   5  ...  https://t1.rg.ltmcdn.com/pt/images/3/7/4/bolo_...\n",
              "\n",
              "[5 rows x 8 columns]"
            ]
          },
          "metadata": {
            "tags": []
          },
          "execution_count": 23
        }
      ]
    },
    {
      "cell_type": "code",
      "metadata": {
        "id": "nUbWpo1KKlXj",
        "colab_type": "code",
        "colab": {
          "base_uri": "https://localhost:8080/",
          "height": 34
        },
        "outputId": "4a012e1a-978c-4a84-a50d-1a4a6ea360f3"
      },
      "source": [
        "dict_receitas = {'quant_ingredientes':[],\t'quant_passos_preparo':[],'id':[]} \n",
        "\n",
        "receitas_full.dropna(axis=0,inplace=True)\n",
        "\n",
        "cont = 0\n",
        "\n",
        "for ingredientes,passos,id_receita in zip(receitas_full['ingredientes'],receitas_full['modo_preparo'],receitas_full['id']):\n",
        "  \n",
        "  ingredientes_n = len(ingredientes.split(\"\\n\"))\n",
        "  try : \n",
        "    passos_n = len(passos.split(\"\\n\"))\n",
        "  except:\n",
        "    cont+=1\n",
        "\n",
        "  dict_receitas['quant_ingredientes'].append(ingredientes_n)\n",
        "  dict_receitas['quant_passos_preparo'].append(passos_n)\n",
        "  dict_receitas['id'].append(id_receita)\n",
        "  "
      ],
      "execution_count": 33,
      "outputs": [
        {
          "output_type": "stream",
          "text": [
            "0\n"
          ],
          "name": "stdout"
        }
      ]
    },
    {
      "cell_type": "code",
      "metadata": {
        "id": "plTwkrLsPYGC",
        "colab_type": "code",
        "colab": {
          "base_uri": "https://localhost:8080/",
          "height": 204
        },
        "outputId": "71392813-c808-4f80-ee60-628642af9c4f"
      },
      "source": [
        "receitas_full_ = pd.DataFrame(data=dict_receitas)\n",
        "receitas_full_.head()"
      ],
      "execution_count": 36,
      "outputs": [
        {
          "output_type": "execute_result",
          "data": {
            "text/html": [
              "<div>\n",
              "<style scoped>\n",
              "    .dataframe tbody tr th:only-of-type {\n",
              "        vertical-align: middle;\n",
              "    }\n",
              "\n",
              "    .dataframe tbody tr th {\n",
              "        vertical-align: top;\n",
              "    }\n",
              "\n",
              "    .dataframe thead th {\n",
              "        text-align: right;\n",
              "    }\n",
              "</style>\n",
              "<table border=\"1\" class=\"dataframe\">\n",
              "  <thead>\n",
              "    <tr style=\"text-align: right;\">\n",
              "      <th></th>\n",
              "      <th>quant_ingredientes</th>\n",
              "      <th>quant_passos_preparo</th>\n",
              "      <th>id</th>\n",
              "    </tr>\n",
              "  </thead>\n",
              "  <tbody>\n",
              "    <tr>\n",
              "      <th>0</th>\n",
              "      <td>8</td>\n",
              "      <td>21</td>\n",
              "      <td>1</td>\n",
              "    </tr>\n",
              "    <tr>\n",
              "      <th>1</th>\n",
              "      <td>12</td>\n",
              "      <td>25</td>\n",
              "      <td>2</td>\n",
              "    </tr>\n",
              "    <tr>\n",
              "      <th>2</th>\n",
              "      <td>8</td>\n",
              "      <td>18</td>\n",
              "      <td>3</td>\n",
              "    </tr>\n",
              "    <tr>\n",
              "      <th>3</th>\n",
              "      <td>9</td>\n",
              "      <td>13</td>\n",
              "      <td>4</td>\n",
              "    </tr>\n",
              "    <tr>\n",
              "      <th>4</th>\n",
              "      <td>8</td>\n",
              "      <td>11</td>\n",
              "      <td>5</td>\n",
              "    </tr>\n",
              "  </tbody>\n",
              "</table>\n",
              "</div>"
            ],
            "text/plain": [
              "   quant_ingredientes  quant_passos_preparo  id\n",
              "0                   8                    21   1\n",
              "1                  12                    25   2\n",
              "2                   8                    18   3\n",
              "3                   9                    13   4\n",
              "4                   8                    11   5"
            ]
          },
          "metadata": {
            "tags": []
          },
          "execution_count": 36
        }
      ]
    },
    {
      "cell_type": "code",
      "metadata": {
        "id": "2a5rN3cWP_Pv",
        "colab_type": "code",
        "colab": {
          "base_uri": "https://localhost:8080/",
          "height": 68
        },
        "outputId": "8487547b-e09a-42bd-f87c-70eac01b49c2"
      },
      "source": [
        "predicao_full = modelo_tree_receitas.predict(receitas_full_[['quant_ingredientes',\t'quant_passos_preparo']])\n",
        "\n",
        "predicao_full"
      ],
      "execution_count": 41,
      "outputs": [
        {
          "output_type": "execute_result",
          "data": {
            "text/plain": [
              "array(['Dificuldade elevada', 'Dificuldade elevada',\n",
              "       'Dificuldade elevada', ..., 'Dificuldade baixa',\n",
              "       'Dificuldade baixa', 'Dificuldade baixa'], dtype=object)"
            ]
          },
          "metadata": {
            "tags": []
          },
          "execution_count": 41
        }
      ]
    },
    {
      "cell_type": "code",
      "metadata": {
        "id": "DANUiiq3Q9lx",
        "colab_type": "code",
        "colab": {}
      },
      "source": [
        "receitas_full['dificuldade'] = predicao_full"
      ],
      "execution_count": 42,
      "outputs": []
    },
    {
      "cell_type": "code",
      "metadata": {
        "id": "VuMCZAwKRFxl",
        "colab_type": "code",
        "colab": {
          "base_uri": "https://localhost:8080/",
          "height": 564
        },
        "outputId": "9e3d17bf-7b16-4a07-b889-e05a294d64a2"
      },
      "source": [
        "receitas_full.head()"
      ],
      "execution_count": 43,
      "outputs": [
        {
          "output_type": "execute_result",
          "data": {
            "text/html": [
              "<div>\n",
              "<style scoped>\n",
              "    .dataframe tbody tr th:only-of-type {\n",
              "        vertical-align: middle;\n",
              "    }\n",
              "\n",
              "    .dataframe tbody tr th {\n",
              "        vertical-align: top;\n",
              "    }\n",
              "\n",
              "    .dataframe thead th {\n",
              "        text-align: right;\n",
              "    }\n",
              "</style>\n",
              "<table border=\"1\" class=\"dataframe\">\n",
              "  <thead>\n",
              "    <tr style=\"text-align: right;\">\n",
              "      <th></th>\n",
              "      <th>id</th>\n",
              "      <th>titulo</th>\n",
              "      <th>categoria</th>\n",
              "      <th>tempo_preparo</th>\n",
              "      <th>rendimento</th>\n",
              "      <th>ingredientes</th>\n",
              "      <th>modo_preparo</th>\n",
              "      <th>imagem</th>\n",
              "      <th>dificuldade</th>\n",
              "    </tr>\n",
              "  </thead>\n",
              "  <tbody>\n",
              "    <tr>\n",
              "      <th>0</th>\n",
              "      <td>1</td>\n",
              "      <td>Receita de Bolo de laranja com casca e tudo</td>\n",
              "      <td>Receitas de Pão e bolos</td>\n",
              "      <td>45 Minutos</td>\n",
              "      <td>4 convidados</td>\n",
              "      <td>1 laranja inteira\\n3 ovos\\n175 gramas de farin...</td>\n",
              "      <td>Coloque na bancada todos os ingredientes neces...</td>\n",
              "      <td>https://t2.rg.ltmcdn.com/pt/images/9/5/2/bolo_...</td>\n",
              "      <td>Dificuldade elevada</td>\n",
              "    </tr>\n",
              "    <tr>\n",
              "      <th>1</th>\n",
              "      <td>2</td>\n",
              "      <td>Receita de Pão integral macio e úmido</td>\n",
              "      <td>Receitas de Pão e bolos</td>\n",
              "      <td>240 Minutos</td>\n",
              "      <td>8 convidados</td>\n",
              "      <td>Para o pré-fermento:\\n½ copo americano de água...</td>\n",
              "      <td>Para conseguir um pão fofinho e crescido comec...</td>\n",
              "      <td>https://t1.rg.ltmcdn.com/pt/images/1/3/3/pao_i...</td>\n",
              "      <td>Dificuldade elevada</td>\n",
              "    </tr>\n",
              "    <tr>\n",
              "      <th>2</th>\n",
              "      <td>3</td>\n",
              "      <td>Receita de Pão caseiro de massa mole e fofinho</td>\n",
              "      <td>Receitas de Pão e bolos</td>\n",
              "      <td>150 Minutos</td>\n",
              "      <td>1 convidado</td>\n",
              "      <td>½ quilograma de farinha de trigo (500 g) \\n1 c...</td>\n",
              "      <td>Comece por misturar a farinha e o sal numa tig...</td>\n",
              "      <td>https://t1.rg.ltmcdn.com/pt/images/7/3/3/pao_c...</td>\n",
              "      <td>Dificuldade elevada</td>\n",
              "    </tr>\n",
              "    <tr>\n",
              "      <th>3</th>\n",
              "      <td>4</td>\n",
              "      <td>Receita de Brownie vegano muito fácil</td>\n",
              "      <td>Receitas de Pão e bolos</td>\n",
              "      <td>45 Minutos</td>\n",
              "      <td>4 convidados</td>\n",
              "      <td>3 bananas maduras\\n¼ xícara de farinha de avei...</td>\n",
              "      <td>Pré aqueça o forno em 180ºC e separe os ingred...</td>\n",
              "      <td>https://t2.rg.ltmcdn.com/pt/images/0/2/4/brown...</td>\n",
              "      <td>Dificuldade elevada</td>\n",
              "    </tr>\n",
              "    <tr>\n",
              "      <th>4</th>\n",
              "      <td>5</td>\n",
              "      <td>Receita de Bolo de milho econômico</td>\n",
              "      <td>Receitas de Pão e bolos</td>\n",
              "      <td>45 Minutos</td>\n",
              "      <td>10 convidados</td>\n",
              "      <td>1 lata de milho sem a água \\n1 lata de água \\n...</td>\n",
              "      <td>Bata no liquidificador o milho, a água, o açúc...</td>\n",
              "      <td>https://t1.rg.ltmcdn.com/pt/images/3/7/4/bolo_...</td>\n",
              "      <td>Dificuldade elevada</td>\n",
              "    </tr>\n",
              "  </tbody>\n",
              "</table>\n",
              "</div>"
            ],
            "text/plain": [
              "   id  ...          dificuldade\n",
              "0   1  ...  Dificuldade elevada\n",
              "1   2  ...  Dificuldade elevada\n",
              "2   3  ...  Dificuldade elevada\n",
              "3   4  ...  Dificuldade elevada\n",
              "4   5  ...  Dificuldade elevada\n",
              "\n",
              "[5 rows x 9 columns]"
            ]
          },
          "metadata": {
            "tags": []
          },
          "execution_count": 43
        }
      ]
    },
    {
      "cell_type": "code",
      "metadata": {
        "id": "x_4HKEDkRROY",
        "colab_type": "code",
        "colab": {
          "base_uri": "https://localhost:8080/",
          "height": 372
        },
        "outputId": "1a9de162-bf66-4aee-f79b-0793b2f9f230"
      },
      "source": [
        "receitas_full[\"dificuldade\"].value_counts().plot(kind=\"bar\")"
      ],
      "execution_count": 49,
      "outputs": [
        {
          "output_type": "execute_result",
          "data": {
            "text/plain": [
              "<matplotlib.axes._subplots.AxesSubplot at 0x7f677a15fc18>"
            ]
          },
          "metadata": {
            "tags": []
          },
          "execution_count": 49
        },
        {
          "output_type": "display_data",
          "data": {
            "image/png": "[encoded data removed]",
            "text/plain": [
              "<Figure size 432x288 with 1 Axes>"
            ]
          },
          "metadata": {
            "tags": [],
            "needs_background": "light"
          }
        }
      ]
    },
    {
      "cell_type": "code",
      "metadata": {
        "id": "HMn2GQysR9S9",
        "colab_type": "code",
        "colab": {}
      },
      "source": [
        "receitas_full_.to_csv(r\"receitas_com_dificuldade.csv\" ,index = False, header=True)"
      ],
      "execution_count": 51,
      "outputs": []
    },
    {
      "cell_type": "markdown",
      "metadata": {
        "id": "pFteUpQNddP_",
        "colab_type": "text"
      },
      "source": [
        "## Graficos\n"
      ]
    },
    {
      "cell_type": "code",
      "metadata": {
        "colab_type": "code",
        "id": "VfBM1hXAdxKv",
        "colab": {
          "base_uri": "https://localhost:8080/",
          "height": 204
        },
        "outputId": "45f1d90a-9081-4746-b0b9-963fb9c9592b"
      },
      "source": [
        "receitas = pd.read_csv('https://raw.githubusercontent.com/SamuelSSan28/Curso_IA_GEDAI/master/receitas.csv')\n",
        "receitas.head()"
      ],
      "execution_count": 17,
      "outputs": [
        {
          "output_type": "execute_result",
          "data": {
            "text/html": [
              "<div>\n",
              "<style scoped>\n",
              "    .dataframe tbody tr th:only-of-type {\n",
              "        vertical-align: middle;\n",
              "    }\n",
              "\n",
              "    .dataframe tbody tr th {\n",
              "        vertical-align: top;\n",
              "    }\n",
              "\n",
              "    .dataframe thead th {\n",
              "        text-align: right;\n",
              "    }\n",
              "</style>\n",
              "<table border=\"1\" class=\"dataframe\">\n",
              "  <thead>\n",
              "    <tr style=\"text-align: right;\">\n",
              "      <th></th>\n",
              "      <th>tempo_de_preparo</th>\n",
              "      <th>dificuldade</th>\n",
              "      <th>quant_ingredientes</th>\n",
              "      <th>quant_passos_preparo</th>\n",
              "    </tr>\n",
              "  </thead>\n",
              "  <tbody>\n",
              "    <tr>\n",
              "      <th>0</th>\n",
              "      <td>30</td>\n",
              "      <td>Dificuldade baixa</td>\n",
              "      <td>5</td>\n",
              "      <td>16</td>\n",
              "    </tr>\n",
              "    <tr>\n",
              "      <th>1</th>\n",
              "      <td>45</td>\n",
              "      <td>Dificuldade baixa</td>\n",
              "      <td>9</td>\n",
              "      <td>11</td>\n",
              "    </tr>\n",
              "    <tr>\n",
              "      <th>2</th>\n",
              "      <td>45</td>\n",
              "      <td>Dificuldade baixa</td>\n",
              "      <td>11</td>\n",
              "      <td>21</td>\n",
              "    </tr>\n",
              "    <tr>\n",
              "      <th>3</th>\n",
              "      <td>15</td>\n",
              "      <td>Dificuldade baixa</td>\n",
              "      <td>9</td>\n",
              "      <td>11</td>\n",
              "    </tr>\n",
              "    <tr>\n",
              "      <th>4</th>\n",
              "      <td>10</td>\n",
              "      <td>Dificuldade baixa</td>\n",
              "      <td>5</td>\n",
              "      <td>21</td>\n",
              "    </tr>\n",
              "  </tbody>\n",
              "</table>\n",
              "</div>"
            ],
            "text/plain": [
              "   tempo_de_preparo  ... quant_passos_preparo\n",
              "0                30  ...                   16\n",
              "1                45  ...                   11\n",
              "2                45  ...                   21\n",
              "3                15  ...                   11\n",
              "4                10  ...                   21\n",
              "\n",
              "[5 rows x 4 columns]"
            ]
          },
          "metadata": {
            "tags": []
          },
          "execution_count": 17
        }
      ]
    },
    {
      "cell_type": "code",
      "metadata": {
        "id": "lR9sEoxKgboK",
        "colab_type": "code",
        "colab": {
          "base_uri": "https://localhost:8080/",
          "height": 407
        },
        "outputId": "5c7b641b-18c7-4fa6-8fa8-b363849a8305"
      },
      "source": [
        "import matplotlib.pyplot as plt\n",
        "\n",
        "fig, ax = plt.subplots(figsize=(9,6),)\n",
        "plt.title(\"quant_passos_preparo\")\n",
        "ax.scatter(x=receitas_concat['dificuldade'],y= receitas_concat['quant_passos_preparo'],\n",
        "               alpha=0.5, edgecolors='none')"
      ],
      "execution_count": 18,
      "outputs": [
        {
          "output_type": "execute_result",
          "data": {
            "text/plain": [
              "<matplotlib.collections.PathCollection at 0x7f677c67ea20>"
            ]
          },
          "metadata": {
            "tags": []
          },
          "execution_count": 18
        },
        {
          "output_type": "display_data",
          "data": {
            "image/png": "[encoded data removed]",
            "text/plain": [
              "<Figure size 648x432 with 1 Axes>"
            ]
          },
          "metadata": {
            "tags": [],
            "needs_background": "light"
          }
        }
      ]
    },
    {
      "cell_type": "code",
      "metadata": {
        "colab_type": "code",
        "id": "meXwLh-ii7xe",
        "colab": {
          "base_uri": "https://localhost:8080/",
          "height": 407
        },
        "outputId": "61c12c06-71fa-4f36-bb60-a6f0c832ede5"
      },
      "source": [
        "import matplotlib.pyplot as plt\n",
        "\n",
        "fig, ax = plt.subplots(figsize=(9,6),)\n",
        "plt.title(\"quant_ingredientes\")\n",
        "ax.scatter(x=receitas_concat['dificuldade'],y= receitas_concat['quant_ingredientes'],\n",
        "               alpha=0.5, edgecolors='none')"
      ],
      "execution_count": 19,
      "outputs": [
        {
          "output_type": "execute_result",
          "data": {
            "text/plain": [
              "<matplotlib.collections.PathCollection at 0x7f677c5f3160>"
            ]
          },
          "metadata": {
            "tags": []
          },
          "execution_count": 19
        },
        {
          "output_type": "display_data",
          "data": {
            "image/png": "[encoded data removed]",
            "text/plain": [
              "<Figure size 648x432 with 1 Axes>"
            ]
          },
          "metadata": {
            "tags": [],
            "needs_background": "light"
          }
        }
      ]
    },
    {
      "cell_type": "code",
      "metadata": {
        "id": "djigKt-KqwS5",
        "colab_type": "code",
        "colab": {
          "base_uri": "https://localhost:8080/",
          "height": 786
        },
        "outputId": "2543142f-2be3-420e-99ba-dd24041a987d"
      },
      "source": [
        "faceis = receitas.query(\"dificuldade == 'Dificuldade baixa'\")['quant_ingredientes'].value_counts()\n",
        "plt.figure(figsize=(12,6))\n",
        "plt.title('Dificuldade baixa - quant_ingredientes')\n",
        "faceis.plot(kind=\"bar\")\n",
        "\n",
        "faceis = receitas.query(\"dificuldade == 'Dificuldade baixa'\")['quant_passos_preparo'].value_counts()\n",
        "plt.figure(figsize=(12,6))\n",
        "plt.title('Dificuldade baixa - quant_passos_preparo')\n",
        "faceis.plot(kind=\"bar\")"
      ],
      "execution_count": 20,
      "outputs": [
        {
          "output_type": "execute_result",
          "data": {
            "text/plain": [
              "<matplotlib.axes._subplots.AxesSubplot at 0x7f677aead550>"
            ]
          },
          "metadata": {
            "tags": []
          },
          "execution_count": 20
        },
        {
          "output_type": "display_data",
          "data": {
            "image/png": "[encoded data removed]",
            "text/plain": [
              "<Figure size 864x432 with 1 Axes>"
            ]
          },
          "metadata": {
            "tags": [],
            "needs_background": "light"
          }
        },
        {
          "output_type": "display_data",
          "data": {
            "image/png": "[encoded data removed]",
            "text/plain": [
              "<Figure size 864x432 with 1 Axes>"
            ]
          },
          "metadata": {
            "tags": [],
            "needs_background": "light"
          }
        }
      ]
    },
    {
      "cell_type": "code",
      "metadata": {
        "id": "iCRuESETrVoq",
        "colab_type": "code",
        "colab": {
          "base_uri": "https://localhost:8080/",
          "height": 786
        },
        "outputId": "c8c4b64b-567f-4ef6-b5da-884e25f88624"
      },
      "source": [
        "medias = receitas.query(\"dificuldade == 'Dificuldade média'\")['quant_ingredientes'].value_counts()\n",
        "plt.figure(figsize=(12,6))\n",
        "plt.title('Dificuldade média - quant_ingredientes')\n",
        "medias.plot(kind=\"bar\")\n",
        "\n",
        "medias = receitas.query(\"dificuldade == 'Dificuldade média'\")['quant_passos_preparo'].value_counts()\n",
        "plt.figure(figsize=(12,6))\n",
        "plt.title('Dificuldade média - quant_passos_preparo')\n",
        "medias.plot(kind=\"bar\")"
      ],
      "execution_count": 21,
      "outputs": [
        {
          "output_type": "execute_result",
          "data": {
            "text/plain": [
              "<matplotlib.axes._subplots.AxesSubplot at 0x7f677abc4cf8>"
            ]
          },
          "metadata": {
            "tags": []
          },
          "execution_count": 21
        },
        {
          "output_type": "display_data",
          "data": {
            "image/png": "[encoded data removed]",
            "text/plain": [
              "<Figure size 864x432 with 1 Axes>"
            ]
          },
          "metadata": {
            "tags": [],
            "needs_background": "light"
          }
        },
        {
          "output_type": "display_data",
          "data": {
            "image/png": "[encoded data removed]",
            "text/plain": [
              "<Figure size 864x432 with 1 Axes>"
            ]
          },
          "metadata": {
            "tags": [],
            "needs_background": "light"
          }
        }
      ]
    },
    {
      "cell_type": "code",
      "metadata": {
        "id": "7elYUOf1rwjb",
        "colab_type": "code",
        "colab": {
          "base_uri": "https://localhost:8080/",
          "height": 786
        },
        "outputId": "0d8e6ee7-d8d1-4527-cce9-02f8f5f59ac5"
      },
      "source": [
        "dificeis = receitas.query(\"dificuldade == 'Dificuldade elevada'\")['quant_ingredientes'].value_counts()\n",
        "plt.figure(figsize=(12,6))\n",
        "plt.title('Dificuldade elevada - quant_ingredientes')\n",
        "dificeis.plot(kind=\"bar\")\n",
        "\n",
        "\n",
        "dificeis = receitas.query(\"dificuldade == 'Dificuldade elevada'\")['quant_passos_preparo'].value_counts()\n",
        "plt.figure(figsize=(12,6))\n",
        "plt.title('Dificuldade elevada - quant_passos_preparo')\n",
        "dificeis.plot(kind=\"bar\")\n"
      ],
      "execution_count": 22,
      "outputs": [
        {
          "output_type": "execute_result",
          "data": {
            "text/plain": [
              "<matplotlib.axes._subplots.AxesSubplot at 0x7f677ab8ff60>"
            ]
          },
          "metadata": {
            "tags": []
          },
          "execution_count": 22
        },
        {
          "output_type": "display_data",
          "data": {
            "image/png": "[encoded data removed]",
            "text/plain": [
              "<Figure size 864x432 with 1 Axes>"
            ]
          },
          "metadata": {
            "tags": [],
            "needs_background": "light"
          }
        },
        {
          "output_type": "display_data",
          "data": {
            "image/png": "[encoded data removed]",
            "text/plain": [
              "<Figure size 864x432 with 1 Axes>"
            ]
          },
          "metadata": {
            "tags": [],
            "needs_background": "light"
          }
        }
      ]
    },
    {
      "cell_type": "code",
      "metadata": {
        "id": "2BAj6nzjsNru",
        "colab_type": "code",
        "colab": {}
      },
      "source": [
        ""
      ],
      "execution_count": 22,
      "outputs": []
    }
  ]
}